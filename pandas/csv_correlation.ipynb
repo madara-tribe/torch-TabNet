{
 "cells": [
  {
   "cell_type": "code",
   "execution_count": 6,
   "id": "10c9588e",
   "metadata": {},
   "outputs": [
    {
     "data": {
      "text/html": [
       "<div>\n",
       "<style scoped>\n",
       "    .dataframe tbody tr th:only-of-type {\n",
       "        vertical-align: middle;\n",
       "    }\n",
       "\n",
       "    .dataframe tbody tr th {\n",
       "        vertical-align: top;\n",
       "    }\n",
       "\n",
       "    .dataframe thead th {\n",
       "        text-align: right;\n",
       "    }\n",
       "</style>\n",
       "<table border=\"1\" class=\"dataframe\">\n",
       "  <thead>\n",
       "    <tr style=\"text-align: right;\">\n",
       "      <th></th>\n",
       "      <th>Country</th>\n",
       "      <th>lat</th>\n",
       "      <th>lon</th>\n",
       "      <th>co_cnt</th>\n",
       "      <th>co_min</th>\n",
       "      <th>co_mid</th>\n",
       "      <th>co_max</th>\n",
       "      <th>co_var</th>\n",
       "      <th>o3_cnt</th>\n",
       "      <th>o3_min</th>\n",
       "      <th>...</th>\n",
       "      <th>pressure_var</th>\n",
       "      <th>ws_min</th>\n",
       "      <th>ws_mid</th>\n",
       "      <th>ws_max</th>\n",
       "      <th>ws_var</th>\n",
       "      <th>dew_min</th>\n",
       "      <th>dew_mid</th>\n",
       "      <th>dew_max</th>\n",
       "      <th>dew_var</th>\n",
       "      <th>pm25_mid</th>\n",
       "    </tr>\n",
       "  </thead>\n",
       "  <tbody>\n",
       "    <tr>\n",
       "      <th>0</th>\n",
       "      <td>Australia</td>\n",
       "      <td>-27.46794</td>\n",
       "      <td>153.02809</td>\n",
       "      <td>38</td>\n",
       "      <td>0.749</td>\n",
       "      <td>2.590</td>\n",
       "      <td>2.633</td>\n",
       "      <td>0.850</td>\n",
       "      <td>29</td>\n",
       "      <td>2.397</td>\n",
       "      <td>...</td>\n",
       "      <td>89.588</td>\n",
       "      <td>0.241</td>\n",
       "      <td>1.088</td>\n",
       "      <td>3.101</td>\n",
       "      <td>1.983</td>\n",
       "      <td>7.671</td>\n",
       "      <td>10.358</td>\n",
       "      <td>15.112</td>\n",
       "      <td>13.424</td>\n",
       "      <td>19.901</td>\n",
       "    </tr>\n",
       "    <tr>\n",
       "      <th>1</th>\n",
       "      <td>Australia</td>\n",
       "      <td>-12.46113</td>\n",
       "      <td>130.84185</td>\n",
       "      <td>47</td>\n",
       "      <td>2.594</td>\n",
       "      <td>3.181</td>\n",
       "      <td>4.828</td>\n",
       "      <td>1.208</td>\n",
       "      <td>49</td>\n",
       "      <td>3.092</td>\n",
       "      <td>...</td>\n",
       "      <td>7.320</td>\n",
       "      <td>0.828</td>\n",
       "      <td>3.473</td>\n",
       "      <td>7.396</td>\n",
       "      <td>10.411</td>\n",
       "      <td>21.324</td>\n",
       "      <td>23.813</td>\n",
       "      <td>24.221</td>\n",
       "      <td>2.021</td>\n",
       "      <td>13.741</td>\n",
       "    </tr>\n",
       "    <tr>\n",
       "      <th>2</th>\n",
       "      <td>Australia</td>\n",
       "      <td>-37.81400</td>\n",
       "      <td>144.96332</td>\n",
       "      <td>17</td>\n",
       "      <td>1.190</td>\n",
       "      <td>1.197</td>\n",
       "      <td>2.200</td>\n",
       "      <td>0.248</td>\n",
       "      <td>123</td>\n",
       "      <td>0.736</td>\n",
       "      <td>...</td>\n",
       "      <td>4655.348</td>\n",
       "      <td>0.000</td>\n",
       "      <td>2.107</td>\n",
       "      <td>8.089</td>\n",
       "      <td>15.719</td>\n",
       "      <td>10.309</td>\n",
       "      <td>13.133</td>\n",
       "      <td>15.422</td>\n",
       "      <td>6.355</td>\n",
       "      <td>25.918</td>\n",
       "    </tr>\n",
       "    <tr>\n",
       "      <th>3</th>\n",
       "      <td>Australia</td>\n",
       "      <td>-32.92953</td>\n",
       "      <td>151.78010</td>\n",
       "      <td>63</td>\n",
       "      <td>4.586</td>\n",
       "      <td>11.044</td>\n",
       "      <td>14.802</td>\n",
       "      <td>24.186</td>\n",
       "      <td>90</td>\n",
       "      <td>1.917</td>\n",
       "      <td>...</td>\n",
       "      <td>10.898</td>\n",
       "      <td>0.284</td>\n",
       "      <td>0.503</td>\n",
       "      <td>3.592</td>\n",
       "      <td>2.485</td>\n",
       "      <td>7.146</td>\n",
       "      <td>10.685</td>\n",
       "      <td>13.344</td>\n",
       "      <td>9.417</td>\n",
       "      <td>174.370</td>\n",
       "    </tr>\n",
       "    <tr>\n",
       "      <th>4</th>\n",
       "      <td>Australia</td>\n",
       "      <td>-31.95224</td>\n",
       "      <td>115.86140</td>\n",
       "      <td>47</td>\n",
       "      <td>4.689</td>\n",
       "      <td>8.681</td>\n",
       "      <td>11.100</td>\n",
       "      <td>10.011</td>\n",
       "      <td>83</td>\n",
       "      <td>0.349</td>\n",
       "      <td>...</td>\n",
       "      <td>15.142</td>\n",
       "      <td>0.500</td>\n",
       "      <td>0.755</td>\n",
       "      <td>3.396</td>\n",
       "      <td>1.937</td>\n",
       "      <td>1.091</td>\n",
       "      <td>3.277</td>\n",
       "      <td>12.272</td>\n",
       "      <td>4.109</td>\n",
       "      <td>167.063</td>\n",
       "    </tr>\n",
       "  </tbody>\n",
       "</table>\n",
       "<p>5 rows × 44 columns</p>\n",
       "</div>"
      ],
      "text/plain": [
       "     Country       lat        lon  co_cnt  co_min  co_mid  co_max  co_var  \\\n",
       "0  Australia -27.46794  153.02809      38   0.749   2.590   2.633   0.850   \n",
       "1  Australia -12.46113  130.84185      47   2.594   3.181   4.828   1.208   \n",
       "2  Australia -37.81400  144.96332      17   1.190   1.197   2.200   0.248   \n",
       "3  Australia -32.92953  151.78010      63   4.586  11.044  14.802  24.186   \n",
       "4  Australia -31.95224  115.86140      47   4.689   8.681  11.100  10.011   \n",
       "\n",
       "   o3_cnt  o3_min  ...  pressure_var  ws_min  ws_mid  ws_max  ws_var  dew_min  \\\n",
       "0      29   2.397  ...        89.588   0.241   1.088   3.101   1.983    7.671   \n",
       "1      49   3.092  ...         7.320   0.828   3.473   7.396  10.411   21.324   \n",
       "2     123   0.736  ...      4655.348   0.000   2.107   8.089  15.719   10.309   \n",
       "3      90   1.917  ...        10.898   0.284   0.503   3.592   2.485    7.146   \n",
       "4      83   0.349  ...        15.142   0.500   0.755   3.396   1.937    1.091   \n",
       "\n",
       "   dew_mid  dew_max  dew_var  pm25_mid  \n",
       "0   10.358   15.112   13.424    19.901  \n",
       "1   23.813   24.221    2.021    13.741  \n",
       "2   13.133   15.422    6.355    25.918  \n",
       "3   10.685   13.344    9.417   174.370  \n",
       "4    3.277   12.272    4.109   167.063  \n",
       "\n",
       "[5 rows x 44 columns]"
      ]
     },
     "execution_count": 6,
     "metadata": {},
     "output_type": "execute_result"
    }
   ],
   "source": [
    "import numpy as np\n",
    "import matplotlib.pyplot as plt\n",
    "import seaborn as sns\n",
    "import pandas as pd\n",
    "from sklearn.datasets import load_boston\n",
    "# http://maruo51.com/2019/04/22/corr-matrix/\n",
    "\n",
    "drop_list=[\"id\", \"year\", \"Country\", \"City\", \"month\", \"day\", \"temperature_cnt\",\n",
    "           \"humidity_cnt\", \"ws_cnt\", \"dew_cnt\", \"pressure_cnt\"]\n",
    "\n",
    "drop_list2=[\"humidity_max\", \"humidity_min\", \"temperature_min\", \"temperature_max\",\n",
    "           \"humidity_min\", \"humidity_max\", \"humidity_mid\", \"pressure_min\", \"pressure_max\", \"pressure_mid\",\n",
    "            \"ws_min\", \"ws_max\", \"ws_mid\", \"dew_min\", \"dew_max\", \"dew_mid\"]\n",
    "target_name = 'pm25_mid'\n",
    "df = pd.read_csv('/Users/hagi/downloads/place/train.csv')\n",
    "df = df.drop(drop_list, axis=1)\n",
    "df.head()\n"
   ]
  },
  {
   "cell_type": "code",
   "execution_count": 7,
   "id": "d3df1ff9",
   "metadata": {
    "scrolled": true
   },
   "outputs": [
    {
     "ename": "ValueError",
     "evalue": "could not convert string to float: 'Australia'",
     "output_type": "error",
     "traceback": [
      "\u001b[0;31m---------------------------------------------------------------------------\u001b[0m",
      "\u001b[0;31mValueError\u001b[0m                                Traceback (most recent call last)",
      "Input \u001b[0;32mIn [7]\u001b[0m, in \u001b[0;36m<cell line: 4>\u001b[0;34m()\u001b[0m\n\u001b[1;32m      1\u001b[0m \u001b[38;5;28;01mfrom\u001b[39;00m \u001b[38;5;21;01msklearn\u001b[39;00m\u001b[38;5;21;01m.\u001b[39;00m\u001b[38;5;21;01mpreprocessing\u001b[39;00m \u001b[38;5;28;01mimport\u001b[39;00m StandardScaler, MinMaxScaler\n\u001b[1;32m      3\u001b[0m scaler \u001b[38;5;241m=\u001b[39m MinMaxScaler()\n\u001b[0;32m----> 4\u001b[0m df_scaled \u001b[38;5;241m=\u001b[39m \u001b[43mscaler\u001b[49m\u001b[38;5;241;43m.\u001b[39;49m\u001b[43mfit_transform\u001b[49m\u001b[43m(\u001b[49m\u001b[43mdf\u001b[49m\u001b[43m)\u001b[49m\n\u001b[1;32m      5\u001b[0m df \u001b[38;5;241m=\u001b[39mpd\u001b[38;5;241m.\u001b[39mDataFrame(df_scaled,columns\u001b[38;5;241m=\u001b[39mdf\u001b[38;5;241m.\u001b[39mcolumns)\n\u001b[1;32m      6\u001b[0m df\u001b[38;5;241m.\u001b[39mhead()\n",
      "File \u001b[0;32m~/opt/anaconda3/envs/yolo/lib/python3.8/site-packages/sklearn/base.py:852\u001b[0m, in \u001b[0;36mTransformerMixin.fit_transform\u001b[0;34m(self, X, y, **fit_params)\u001b[0m\n\u001b[1;32m    848\u001b[0m \u001b[38;5;66;03m# non-optimized default implementation; override when a better\u001b[39;00m\n\u001b[1;32m    849\u001b[0m \u001b[38;5;66;03m# method is possible for a given clustering algorithm\u001b[39;00m\n\u001b[1;32m    850\u001b[0m \u001b[38;5;28;01mif\u001b[39;00m y \u001b[38;5;129;01mis\u001b[39;00m \u001b[38;5;28;01mNone\u001b[39;00m:\n\u001b[1;32m    851\u001b[0m     \u001b[38;5;66;03m# fit method of arity 1 (unsupervised transformation)\u001b[39;00m\n\u001b[0;32m--> 852\u001b[0m     \u001b[38;5;28;01mreturn\u001b[39;00m \u001b[38;5;28;43mself\u001b[39;49m\u001b[38;5;241;43m.\u001b[39;49m\u001b[43mfit\u001b[49m\u001b[43m(\u001b[49m\u001b[43mX\u001b[49m\u001b[43m,\u001b[49m\u001b[43m \u001b[49m\u001b[38;5;241;43m*\u001b[39;49m\u001b[38;5;241;43m*\u001b[39;49m\u001b[43mfit_params\u001b[49m\u001b[43m)\u001b[49m\u001b[38;5;241m.\u001b[39mtransform(X)\n\u001b[1;32m    853\u001b[0m \u001b[38;5;28;01melse\u001b[39;00m:\n\u001b[1;32m    854\u001b[0m     \u001b[38;5;66;03m# fit method of arity 2 (supervised transformation)\u001b[39;00m\n\u001b[1;32m    855\u001b[0m     \u001b[38;5;28;01mreturn\u001b[39;00m \u001b[38;5;28mself\u001b[39m\u001b[38;5;241m.\u001b[39mfit(X, y, \u001b[38;5;241m*\u001b[39m\u001b[38;5;241m*\u001b[39mfit_params)\u001b[38;5;241m.\u001b[39mtransform(X)\n",
      "File \u001b[0;32m~/opt/anaconda3/envs/yolo/lib/python3.8/site-packages/sklearn/preprocessing/_data.py:416\u001b[0m, in \u001b[0;36mMinMaxScaler.fit\u001b[0;34m(self, X, y)\u001b[0m\n\u001b[1;32m    414\u001b[0m \u001b[38;5;66;03m# Reset internal state before fitting\u001b[39;00m\n\u001b[1;32m    415\u001b[0m \u001b[38;5;28mself\u001b[39m\u001b[38;5;241m.\u001b[39m_reset()\n\u001b[0;32m--> 416\u001b[0m \u001b[38;5;28;01mreturn\u001b[39;00m \u001b[38;5;28;43mself\u001b[39;49m\u001b[38;5;241;43m.\u001b[39;49m\u001b[43mpartial_fit\u001b[49m\u001b[43m(\u001b[49m\u001b[43mX\u001b[49m\u001b[43m,\u001b[49m\u001b[43m \u001b[49m\u001b[43my\u001b[49m\u001b[43m)\u001b[49m\n",
      "File \u001b[0;32m~/opt/anaconda3/envs/yolo/lib/python3.8/site-packages/sklearn/preprocessing/_data.py:453\u001b[0m, in \u001b[0;36mMinMaxScaler.partial_fit\u001b[0;34m(self, X, y)\u001b[0m\n\u001b[1;32m    447\u001b[0m     \u001b[38;5;28;01mraise\u001b[39;00m \u001b[38;5;167;01mTypeError\u001b[39;00m(\n\u001b[1;32m    448\u001b[0m         \u001b[38;5;124m\"\u001b[39m\u001b[38;5;124mMinMaxScaler does not support sparse input. \u001b[39m\u001b[38;5;124m\"\u001b[39m\n\u001b[1;32m    449\u001b[0m         \u001b[38;5;124m\"\u001b[39m\u001b[38;5;124mConsider using MaxAbsScaler instead.\u001b[39m\u001b[38;5;124m\"\u001b[39m\n\u001b[1;32m    450\u001b[0m     )\n\u001b[1;32m    452\u001b[0m first_pass \u001b[38;5;241m=\u001b[39m \u001b[38;5;129;01mnot\u001b[39;00m \u001b[38;5;28mhasattr\u001b[39m(\u001b[38;5;28mself\u001b[39m, \u001b[38;5;124m\"\u001b[39m\u001b[38;5;124mn_samples_seen_\u001b[39m\u001b[38;5;124m\"\u001b[39m)\n\u001b[0;32m--> 453\u001b[0m X \u001b[38;5;241m=\u001b[39m \u001b[38;5;28;43mself\u001b[39;49m\u001b[38;5;241;43m.\u001b[39;49m\u001b[43m_validate_data\u001b[49m\u001b[43m(\u001b[49m\n\u001b[1;32m    454\u001b[0m \u001b[43m    \u001b[49m\u001b[43mX\u001b[49m\u001b[43m,\u001b[49m\n\u001b[1;32m    455\u001b[0m \u001b[43m    \u001b[49m\u001b[43mreset\u001b[49m\u001b[38;5;241;43m=\u001b[39;49m\u001b[43mfirst_pass\u001b[49m\u001b[43m,\u001b[49m\n\u001b[1;32m    456\u001b[0m \u001b[43m    \u001b[49m\u001b[43mestimator\u001b[49m\u001b[38;5;241;43m=\u001b[39;49m\u001b[38;5;28;43mself\u001b[39;49m\u001b[43m,\u001b[49m\n\u001b[1;32m    457\u001b[0m \u001b[43m    \u001b[49m\u001b[43mdtype\u001b[49m\u001b[38;5;241;43m=\u001b[39;49m\u001b[43mFLOAT_DTYPES\u001b[49m\u001b[43m,\u001b[49m\n\u001b[1;32m    458\u001b[0m \u001b[43m    \u001b[49m\u001b[43mforce_all_finite\u001b[49m\u001b[38;5;241;43m=\u001b[39;49m\u001b[38;5;124;43m\"\u001b[39;49m\u001b[38;5;124;43mallow-nan\u001b[39;49m\u001b[38;5;124;43m\"\u001b[39;49m\u001b[43m,\u001b[49m\n\u001b[1;32m    459\u001b[0m \u001b[43m\u001b[49m\u001b[43m)\u001b[49m\n\u001b[1;32m    461\u001b[0m data_min \u001b[38;5;241m=\u001b[39m np\u001b[38;5;241m.\u001b[39mnanmin(X, axis\u001b[38;5;241m=\u001b[39m\u001b[38;5;241m0\u001b[39m)\n\u001b[1;32m    462\u001b[0m data_max \u001b[38;5;241m=\u001b[39m np\u001b[38;5;241m.\u001b[39mnanmax(X, axis\u001b[38;5;241m=\u001b[39m\u001b[38;5;241m0\u001b[39m)\n",
      "File \u001b[0;32m~/opt/anaconda3/envs/yolo/lib/python3.8/site-packages/sklearn/base.py:566\u001b[0m, in \u001b[0;36mBaseEstimator._validate_data\u001b[0;34m(self, X, y, reset, validate_separately, **check_params)\u001b[0m\n\u001b[1;32m    564\u001b[0m     \u001b[38;5;28;01mraise\u001b[39;00m \u001b[38;5;167;01mValueError\u001b[39;00m(\u001b[38;5;124m\"\u001b[39m\u001b[38;5;124mValidation should be done on X, y or both.\u001b[39m\u001b[38;5;124m\"\u001b[39m)\n\u001b[1;32m    565\u001b[0m \u001b[38;5;28;01melif\u001b[39;00m \u001b[38;5;129;01mnot\u001b[39;00m no_val_X \u001b[38;5;129;01mand\u001b[39;00m no_val_y:\n\u001b[0;32m--> 566\u001b[0m     X \u001b[38;5;241m=\u001b[39m \u001b[43mcheck_array\u001b[49m\u001b[43m(\u001b[49m\u001b[43mX\u001b[49m\u001b[43m,\u001b[49m\u001b[43m \u001b[49m\u001b[38;5;241;43m*\u001b[39;49m\u001b[38;5;241;43m*\u001b[39;49m\u001b[43mcheck_params\u001b[49m\u001b[43m)\u001b[49m\n\u001b[1;32m    567\u001b[0m     out \u001b[38;5;241m=\u001b[39m X\n\u001b[1;32m    568\u001b[0m \u001b[38;5;28;01melif\u001b[39;00m no_val_X \u001b[38;5;129;01mand\u001b[39;00m \u001b[38;5;129;01mnot\u001b[39;00m no_val_y:\n",
      "File \u001b[0;32m~/opt/anaconda3/envs/yolo/lib/python3.8/site-packages/sklearn/utils/validation.py:746\u001b[0m, in \u001b[0;36mcheck_array\u001b[0;34m(array, accept_sparse, accept_large_sparse, dtype, order, copy, force_all_finite, ensure_2d, allow_nd, ensure_min_samples, ensure_min_features, estimator)\u001b[0m\n\u001b[1;32m    744\u001b[0m         array \u001b[38;5;241m=\u001b[39m array\u001b[38;5;241m.\u001b[39mastype(dtype, casting\u001b[38;5;241m=\u001b[39m\u001b[38;5;124m\"\u001b[39m\u001b[38;5;124munsafe\u001b[39m\u001b[38;5;124m\"\u001b[39m, copy\u001b[38;5;241m=\u001b[39m\u001b[38;5;28;01mFalse\u001b[39;00m)\n\u001b[1;32m    745\u001b[0m     \u001b[38;5;28;01melse\u001b[39;00m:\n\u001b[0;32m--> 746\u001b[0m         array \u001b[38;5;241m=\u001b[39m \u001b[43mnp\u001b[49m\u001b[38;5;241;43m.\u001b[39;49m\u001b[43masarray\u001b[49m\u001b[43m(\u001b[49m\u001b[43marray\u001b[49m\u001b[43m,\u001b[49m\u001b[43m \u001b[49m\u001b[43morder\u001b[49m\u001b[38;5;241;43m=\u001b[39;49m\u001b[43morder\u001b[49m\u001b[43m,\u001b[49m\u001b[43m \u001b[49m\u001b[43mdtype\u001b[49m\u001b[38;5;241;43m=\u001b[39;49m\u001b[43mdtype\u001b[49m\u001b[43m)\u001b[49m\n\u001b[1;32m    747\u001b[0m \u001b[38;5;28;01mexcept\u001b[39;00m ComplexWarning \u001b[38;5;28;01mas\u001b[39;00m complex_warning:\n\u001b[1;32m    748\u001b[0m     \u001b[38;5;28;01mraise\u001b[39;00m \u001b[38;5;167;01mValueError\u001b[39;00m(\n\u001b[1;32m    749\u001b[0m         \u001b[38;5;124m\"\u001b[39m\u001b[38;5;124mComplex data not supported\u001b[39m\u001b[38;5;130;01m\\n\u001b[39;00m\u001b[38;5;132;01m{}\u001b[39;00m\u001b[38;5;130;01m\\n\u001b[39;00m\u001b[38;5;124m\"\u001b[39m\u001b[38;5;241m.\u001b[39mformat(array)\n\u001b[1;32m    750\u001b[0m     ) \u001b[38;5;28;01mfrom\u001b[39;00m \u001b[38;5;21;01mcomplex_warning\u001b[39;00m\n",
      "File \u001b[0;32m~/opt/anaconda3/envs/yolo/lib/python3.8/site-packages/pandas/core/generic.py:2064\u001b[0m, in \u001b[0;36mNDFrame.__array__\u001b[0;34m(self, dtype)\u001b[0m\n\u001b[1;32m   2063\u001b[0m \u001b[38;5;28;01mdef\u001b[39;00m \u001b[38;5;21m__array__\u001b[39m(\u001b[38;5;28mself\u001b[39m, dtype: npt\u001b[38;5;241m.\u001b[39mDTypeLike \u001b[38;5;241m|\u001b[39m \u001b[38;5;28;01mNone\u001b[39;00m \u001b[38;5;241m=\u001b[39m \u001b[38;5;28;01mNone\u001b[39;00m) \u001b[38;5;241m-\u001b[39m\u001b[38;5;241m>\u001b[39m np\u001b[38;5;241m.\u001b[39mndarray:\n\u001b[0;32m-> 2064\u001b[0m     \u001b[38;5;28;01mreturn\u001b[39;00m \u001b[43mnp\u001b[49m\u001b[38;5;241;43m.\u001b[39;49m\u001b[43masarray\u001b[49m\u001b[43m(\u001b[49m\u001b[38;5;28;43mself\u001b[39;49m\u001b[38;5;241;43m.\u001b[39;49m\u001b[43m_values\u001b[49m\u001b[43m,\u001b[49m\u001b[43m \u001b[49m\u001b[43mdtype\u001b[49m\u001b[38;5;241;43m=\u001b[39;49m\u001b[43mdtype\u001b[49m\u001b[43m)\u001b[49m\n",
      "\u001b[0;31mValueError\u001b[0m: could not convert string to float: 'Australia'"
     ]
    }
   ],
   "source": [
    "from sklearn.preprocessing import StandardScaler, MinMaxScaler\n",
    "\n",
    "scaler = MinMaxScaler()\n",
    "df_scaled = scaler.fit_transform(df)\n",
    "df =pd.DataFrame(df_scaled,columns=df.columns)\n",
    "df.head()"
   ]
  },
  {
   "cell_type": "code",
   "execution_count": null,
   "id": "235e7613",
   "metadata": {},
   "outputs": [],
   "source": [
    "df[\"co_ran\"]=df[\"co_max\"]-df[\"co_min\"]\n",
    "df[\"o3_ran\"]=df[\"o3_max\"]-df[\"o3_min\"]\n",
    "df[\"so2_ran\"]=df[\"so2_max\"]-df[\"so2_min\"]\n",
    "df[\"no2_ran\"]=df[\"no2_max\"]-df[\"no2_min\"]\n",
    "df[\"temperature_ran\"]=df[\"temperature_max\"]-df[\"temperature_min\"]\n",
    "df[\"pressure_ran\"]=df[\"pressure_max\"]-df[\"pressure_min\"]\n",
    "df[\"humidity_ran\"]=df[\"humidity_max\"]-df[\"humidity_min\"]\n",
    "df[\"fst_dir\"]=df[\"co_var\"]+df[\"so2_var\"]+df[\"no2_var\"]\n",
    "df = df.drop(drop_list2, axis=1)"
   ]
  },
  {
   "cell_type": "code",
   "execution_count": null,
   "id": "840bb4b3",
   "metadata": {},
   "outputs": [],
   "source": [
    "corr_matrix = df.corr()\n",
    "corr_y = pd.DataFrame({\"features\":df.columns,\"corr_y\":corr_matrix[target_name]},index=None)\n",
    "corr_y = corr_y.reset_index(drop=True)\n",
    "corr_y.style.background_gradient()"
   ]
  },
  {
   "cell_type": "code",
   "execution_count": 8,
   "id": "a345ec03",
   "metadata": {
    "scrolled": true
   },
   "outputs": [
    {
     "data": {
      "text/plain": [
       "<AxesSubplot:xlabel='Country', ylabel='pm25_mid'>"
      ]
     },
     "execution_count": 8,
     "metadata": {},
     "output_type": "execute_result"
    },
    {
     "data": {
      "image/png": "[encoded data removed]",
      "text/plain": [
       "<Figure size 432x288 with 1 Axes>"
      ]
     },
     "metadata": {
      "needs_background": "light"
     },
     "output_type": "display_data"
    }
   ],
   "source": [
    "df.plot.scatter(x='Country', y=target_name)"
   ]
  },
  {
   "cell_type": "code",
   "execution_count": null,
   "id": "62e0b118",
   "metadata": {},
   "outputs": [],
   "source": [
    "# plot cor\n",
    "#sns.pairplot(df)\n",
    "#corr_matrix = df.corr()\n",
    "#print(corr_matrix)"
   ]
  }
 ],
 "metadata": {
  "kernelspec": {
   "display_name": "Python 3 (ipykernel)",
   "language": "python",
   "name": "python3"
  },
  "language_info": {
   "codemirror_mode": {
    "name": "ipython",
    "version": 3
   },
   "file_extension": ".py",
   "mimetype": "text/x-python",
   "name": "python",
   "nbconvert_exporter": "python",
   "pygments_lexer": "ipython3",
   "version": "3.8.0"
  }
 },
 "nbformat": 4,
 "nbformat_minor": 5
}
